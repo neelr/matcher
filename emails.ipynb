{
 "cells": [
  {
   "cell_type": "code",
   "execution_count": 2,
   "metadata": {},
   "outputs": [],
   "source": [
    "from pyairtable import Api\n",
    "from dotenv import load_dotenv\n",
    "import os\n",
    "load_dotenv()\n",
    "\n",
    "api_key = os.getenv('AIRTABLE_API_KEY')\n",
    "base_id = os.getenv('AIRTABLE_BASE')\n",
    "\n",
    "api = Api(api_key)\n",
    "\n",
    "matches_table = api.table(base_id, 'matches')\n",
    "people_table = api.table(base_id, 'people')"
   ]
  },
  {
   "cell_type": "code",
   "execution_count": 19,
   "metadata": {},
   "outputs": [],
   "source": [
    "for record in matches_table.all():\n",
    "    # get p1 insta\n",
    "    p1 = people_table.get(record['fields']['p1'][0])\n",
    "    p2 = people_table.get(record['fields']['p2'][0])\n",
    "\n",
    "    p1_insta = p1['fields']['insta_handle'].replace('@', '')\n",
    "    p2_insta = p2['fields']['insta_handle'].replace('@', '')\n",
    "\n",
    "    p1_insta = \"@\" + p1_insta\n",
    "    p2_insta = \"@\" + p2_insta\n",
    "\n",
    "    email = record['fields']['email_body']\n",
    "    email += f\"\\n\\nP.S. According to our highly sophisticated love algorithm, you two have a {record['fields']['percent']*100}% compatibility score - looks like the odds are in favor of an epic partnership! 🚀💕\"\n",
    "    email += f\"\\n\\nP.P.S. hit reply to this email with a cute note! emails are honestly the best love letters. after that check out each others insta (maybe?) {p1_insta} & {p2_insta} !\"\n",
    "    email += f\"\\n\\n **P.P.P.S. If you're interested in meeting up, we might be hosting smth @ Ackerman on Valentines Day! No guarantees, but we'll send updates tmmrw. We'd love to see you there! 💌**\"\n",
    "    email += f\"\\n\\nya'll should def organize a time to meet up!!! (and take pics!)\"\n",
    "    email += f\"\\n\\n-hackin.la team\"\n",
    "\n",
    "    matches_table.update(record['id'], {'email_body': email})"
   ]
  },
  {
   "cell_type": "code",
   "execution_count": 22,
   "metadata": {},
   "outputs": [
    {
     "name": "stdout",
     "output_type": "stream",
     "text": [
      "Please visit this URL to authorize this application: https://accounts.google.com/o/oauth2/auth?response_type=code&client_id=725730991270-om13lfcjhpoc2ptl1g4ajhoklgt0j6qf.apps.googleusercontent.com&redirect_uri=http%3A%2F%2Flocalhost%3A53067%2F&scope=https%3A%2F%2Fwww.googleapis.com%2Fauth%2Fgmail.send&state=Fd45BlrD2wE1SN1r6BLlqwn2x91hmG&access_type=offline\n"
     ]
    }
   ],
   "source": [
    "import base64\n",
    "from email.mime.text import MIMEText\n",
    "from google_auth_oauthlib.flow import InstalledAppFlow\n",
    "from googleapiclient.discovery import build\n",
    "from requests import HTTPError\n",
    "\n",
    "SCOPES = [\n",
    "        \"https://www.googleapis.com/auth/gmail.send\"\n",
    "    ]\n",
    "flow = InstalledAppFlow.from_client_secrets_file('credentials.json', SCOPES)\n",
    "creds = flow.run_local_server(port=0)\n",
    "\n",
    "service = build('gmail', 'v1', credentials=creds)"
   ]
  },
  {
   "cell_type": "code",
   "execution_count": 40,
   "metadata": {},
   "outputs": [],
   "source": [
    "import base64\n",
    "import markdown\n",
    "from tqdm import tqdm\n",
    "import time\n"
   ]
  },
  {
   "cell_type": "code",
   "execution_count": 42,
   "metadata": {},
   "outputs": [
    {
     "name": "stdout",
     "output_type": "stream",
     "text": [
      "akshaykg925@gmail.com, swasinya@gmail.com\n"
     ]
    }
   ],
   "source": [
    "for record in tqdm(matches_table.all()):\n",
    "    email = record['fields']['email_body']\n",
    "    email = markdown.markdown(email)\n",
    "\n",
    "    p1 = people_table.get(record['fields']['p1'][0])\n",
    "    p2 = people_table.get(record['fields']['p2'][0])\n",
    "\n",
    "    p1_email = p1['fields']['email']\n",
    "    p2_email = p2['fields']['email']\n",
    "\n",
    "    emails = f\"{p1_email}, {p2_email}\"\n",
    "\n",
    "    message = MIMEText(email.replace('\\n', '<br>'), 'html')\n",
    "    message['to'] = emails\n",
    "    message['subject'] = 'ai valentines day matches are out!!!'\n",
    "    create_message = {'raw': base64.urlsafe_b64encode(message.as_bytes()).decode()}\n",
    "\n",
    "    try:\n",
    "        message = (service.users().messages().send(userId=\"me\", body=create_message).execute())\n",
    "        print(F'sent message to {message} Message Id: {message[\"id\"]}')\n",
    "    except HTTPError as error:\n",
    "        print(F'An error occurred: {error}')\n",
    "        message = None\n",
    "\n",
    "    time.sleep(1) # avoid rate limit\n",
    "    break"
   ]
  }
 ],
 "metadata": {
  "kernelspec": {
   "display_name": "matcher-cc9HlD4o",
   "language": "python",
   "name": "python3"
  },
  "language_info": {
   "codemirror_mode": {
    "name": "ipython",
    "version": 3
   },
   "file_extension": ".py",
   "mimetype": "text/x-python",
   "name": "python",
   "nbconvert_exporter": "python",
   "pygments_lexer": "ipython3",
   "version": "3.11.6"
  }
 },
 "nbformat": 4,
 "nbformat_minor": 2
}
