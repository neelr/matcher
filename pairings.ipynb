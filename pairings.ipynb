{
 "cells": [
  {
   "cell_type": "code",
   "execution_count": 22,
   "metadata": {},
   "outputs": [],
   "source": [
    "from angle_emb import AnglE\n",
    "\n",
    "MALE = 0\n",
    "FEMALE = 1\n",
    "OTHER = 2\n",
    "\n",
    "SEX_MAPPING = {\n",
    "    \"male\": MALE,\n",
    "    \"female\": FEMALE,\n",
    "    \"other\": OTHER\n",
    "}\n",
    "\n",
    "model = AnglE.from_pretrained(\n",
    "    'WhereIsAI/UAE-Large-V1', pooling_strategy='cls').cuda()"
   ]
  },
  {
   "cell_type": "code",
   "execution_count": 36,
   "metadata": {},
   "outputs": [],
   "source": [
    "import torch\n",
    "\n",
    "def cos_sim(a, b):\n",
    "    a = torch.tensor(a).to(\"mps\")\n",
    "    b = torch.tensor(b).to(\"mps\")\n",
    "    return torch.nn.functional.cosine_similarity(a, b, dim=0)"
   ]
  },
  {
   "cell_type": "code",
   "execution_count": 297,
   "metadata": {},
   "outputs": [],
   "source": [
    "class Person:\n",
    "    def __init__(self,\n",
    "                 id: str,\n",
    "                 name: str,\n",
    "                 sex: int,\n",
    "                 desc: str,\n",
    "                 want: str,\n",
    "                 pref: [int]\n",
    "                 ):\n",
    "        self.id = id\n",
    "        self.name = name\n",
    "        self.desc = desc\n",
    "        self.want = want\n",
    "        self.pref = pref\n",
    "        self.sex = sex\n",
    "        self.similarities = []\n",
    "\n",
    "        self.embedding = model.encode([desc])[0]\n",
    "        self.want_embedding = model.encode([want])[0]\n",
    "\n",
    "    def calc_similarity(self, other: 'Person'):\n",
    "        if self == other:\n",
    "            return 1.0\n",
    "        for sim in self.similarities:\n",
    "            if sim[0] == other:\n",
    "                return sim[1]\n",
    "\n",
    "        sim = cos_sim(self.embedding, other.embedding)\n",
    "        self.similarities.append(\n",
    "            (other, sim)\n",
    "        )\n",
    "        return sim\n",
    "\n",
    "    def sex_match(self, other: 'Person'):\n",
    "        return (self.sex in other.pref) and (other.sex in self.pref)\n",
    "\n",
    "    def get_best_match(self):\n",
    "        return max(self.similarities, key=lambda x: x[1])\n",
    "    \n",
    "    def get_rankings(self):\n",
    "        rankings = list(map(lambda x: x[0], sorted(self.similarities, key=lambda x: x[1])))\n",
    "\n",
    "        # filter out non sex matches\n",
    "        rankings = list(filter(lambda p: p.sex_match(self), rankings))\n",
    "\n",
    "        return rankings"
   ]
  },
  {
   "cell_type": "code",
   "execution_count": 20,
   "metadata": {},
   "outputs": [],
   "source": [
    "def convert_to_sexint(l: list[str]):\n",
    "    return list(map(lambda x: SEX_MAPPING[x], l))"
   ]
  },
  {
   "cell_type": "code",
   "execution_count": 10,
   "metadata": {},
   "outputs": [],
   "source": [
    "from pyairtable import Api\n",
    "from dotenv import load_dotenv\n",
    "import os\n",
    "load_dotenv()\n",
    "\n",
    "api_key = os.getenv('AIRTABLE_API_KEY')\n",
    "base_id = os.getenv('AIRTABLE_BASE')\n",
    "\n",
    "api = Api(api_key)\n",
    "\n",
    "descrip_table = api.table(base_id, 'descs')\n",
    "people_table = api.table(base_id, 'people')"
   ]
  },
  {
   "cell_type": "code",
   "execution_count": 311,
   "metadata": {},
   "outputs": [
    {
     "name": "stderr",
     "output_type": "stream",
     "text": [
      " 82%|████████▏ | 53/65 [00:40<00:08,  1.38it/s]"
     ]
    },
    {
     "name": "stdout",
     "output_type": "stream",
     "text": [
      "skipping Vansh Gehlot\n"
     ]
    },
    {
     "name": "stderr",
     "output_type": "stream",
     "text": [
      "100%|██████████| 65/65 [00:47<00:00,  1.38it/s]\n",
      "100%|██████████| 64/64 [00:07<00:00,  8.11it/s]\n"
     ]
    }
   ],
   "source": [
    "from tqdm import tqdm\n",
    "\n",
    "records = descrip_table.all()\n",
    "\n",
    "people = []\n",
    "for record in tqdm(records):\n",
    "    fields = record['fields']\n",
    "    person = people_table.get(fields['people'][0])\n",
    "    person['fields']['id'] = person['id']\n",
    "    person = person['fields']\n",
    "\n",
    "    if \"undesired\" in person:\n",
    "        print(f\"skipping {person['name']}\")\n",
    "        continue\n",
    "\n",
    "    people.append(\n",
    "        Person(\n",
    "            person['id'],\n",
    "            person['name'],\n",
    "            convert_to_sexint(person['sex'])[0],\n",
    "            fields['desc'],\n",
    "            fields['want'],\n",
    "            convert_to_sexint(person['attraction'])\n",
    "        )\n",
    "    )\n",
    "\n",
    "for person in tqdm(people):\n",
    "    for other in people:\n",
    "        if person.id != other.id:\n",
    "            person.calc_similarity(other)"
   ]
  },
  {
   "cell_type": "code",
   "execution_count": 312,
   "metadata": {},
   "outputs": [],
   "source": [
    "def get_all_possible(people: list[Person]):\n",
    "    all_possible_matches = []\n",
    "\n",
    "    for person in people:\n",
    "        for other in people:\n",
    "            if person.id != other.id and person.sex_match(other):\n",
    "                all_possible_matches.append((person, other, float(person.calc_similarity(other))))\n",
    "\n",
    "    return all_possible_matches"
   ]
  },
  {
   "cell_type": "code",
   "execution_count": 313,
   "metadata": {},
   "outputs": [],
   "source": [
    "all_possible_matches = get_all_possible(people)"
   ]
  },
  {
   "cell_type": "code",
   "execution_count": 314,
   "metadata": {},
   "outputs": [
    {
     "name": "stdout",
     "output_type": "stream",
     "text": [
      "Jason Jiang matched with Charlotte Chiang with a score of 0.7973101735115051\n",
      "Removed all matches with Jason Jiang and Charlotte Chiang\n",
      "Emma Martinez  matched with Atul Thirumalai with a score of 0.7444273233413696\n",
      "Removed all matches with Emma Martinez  and Atul Thirumalai\n",
      "Daphne Chan matched with Owen Hsu with a score of 0.7377946376800537\n",
      "Removed all matches with Daphne Chan and Owen Hsu\n",
      "vidhi matched with Viraj Chhajed with a score of 0.7305639386177063\n",
      "Removed all matches with vidhi and Viraj Chhajed\n",
      "Lucas Choe matched with Coco with a score of 0.7119338512420654\n",
      "Removed all matches with Lucas Choe and Coco\n",
      "Brianna Dee matched with Dillon Price with a score of 0.6984060406684875\n",
      "Removed all matches with Brianna Dee and Dillon Price\n",
      "India Brar matched with Manish Yalamanchili with a score of 0.6908382177352905\n",
      "Removed all matches with India Brar and Manish Yalamanchili\n",
      "Ashley Rivera matched with Alyssa Corbett with a score of 0.6863813400268555\n",
      "Removed all matches with Ashley Rivera and Alyssa Corbett\n",
      "RJ Wang matched with Kimberly Cui with a score of 0.6831742525100708\n",
      "Removed all matches with RJ Wang and Kimberly Cui\n",
      "Madeleine matched with John Connell with a score of 0.681027889251709\n",
      "Removed all matches with Madeleine and John Connell\n",
      "swasinya jayaraman matched with Sachin Raja with a score of 0.665622353553772\n",
      "Removed all matches with swasinya jayaraman and Sachin Raja\n",
      "Max matched with Siya Patel with a score of 0.6655277013778687\n",
      "Removed all matches with Max and Siya Patel\n",
      "Shivani Patel matched with Vaibhav Aggarwal with a score of 0.6506423354148865\n",
      "Removed all matches with Shivani Patel and Vaibhav Aggarwal\n",
      "Melina Eftekhari matched with Jake Hekemian with a score of 0.6497464179992676\n",
      "Removed all matches with Melina Eftekhari and Jake Hekemian\n",
      "Tristan Thai matched with Lila with a score of 0.6486155986785889\n",
      "Removed all matches with Tristan Thai and Lila\n",
      "chris s matched with Serena Kim  with a score of 0.6437861323356628\n",
      "Removed all matches with chris s and Serena Kim \n",
      "Tavia Placencia matched with Anibal Anguiano with a score of 0.6433939337730408\n",
      "Removed all matches with Tavia Placencia and Anibal Anguiano\n",
      "sisi  b matched with Venkat Chitturi with a score of 0.6399098634719849\n",
      "Removed all matches with sisi  b and Venkat Chitturi\n",
      "Mili Pavagadhi matched with Abhiram Singh  with a score of 0.6396321058273315\n",
      "Removed all matches with Mili Pavagadhi and Abhiram Singh \n",
      "akshay  matched with TAZ with a score of 0.6316880583763123\n",
      "Removed all matches with akshay  and TAZ\n",
      "ty matched with Hailey Chen with a score of 0.6295069456100464\n",
      "Removed all matches with ty and Hailey Chen\n",
      "Jace Crocker matched with Joshua Stepter with a score of 0.6255664229393005\n",
      "Removed all matches with Jace Crocker and Joshua Stepter\n",
      "Stevan matched with Yanelli Raygoza with a score of 0.6105520725250244\n",
      "Removed all matches with Stevan and Yanelli Raygoza\n",
      "Neel Redkar matched with Lily Ong with a score of 0.6102702021598816\n",
      "Removed all matches with Neel Redkar and Lily Ong\n",
      "Beatrice Huang matched with Rishi Chowdary with a score of 0.5786280632019043\n",
      "Removed all matches with Beatrice Huang and Rishi Chowdary\n",
      "Raayan Dhar matched with Zaara Amin with a score of 0.5603938102722168\n",
      "Removed all matches with Raayan Dhar and Zaara Amin\n",
      "yuka matched with Divik Chotani  with a score of 0.520243763923645\n",
      "Removed all matches with yuka and Divik Chotani \n",
      "Nakul Joshi matched with Yuna Bi with a score of 0.5176984071731567\n",
      "Removed all matches with Nakul Joshi and Yuna Bi\n",
      "Jonathan Pai matched with Lea Farkouh with a score of 0.500058650970459\n",
      "Removed all matches with Jonathan Pai and Lea Farkouh\n",
      "Kennedy matched with Arav Bhattacharya with a score of 0.4933507442474365\n",
      "Removed all matches with Kennedy and Arav Bhattacharya\n"
     ]
    }
   ],
   "source": [
    "matches = []\n",
    "unmatched = [x for x in people]\n",
    "\n",
    "while len(all_possible_matches) != 0:\n",
    "    all_possible_matches = sorted(all_possible_matches, key=lambda x: x[2])\n",
    "    best_match = all_possible_matches.pop()\n",
    "\n",
    "    unmatched = [x for x in unmatched if x not in best_match]\n",
    "\n",
    "    print(f\"{best_match[0].name} matched with {best_match[1].name} with a score of {best_match[2]}\")\n",
    "    all_possible_matches = [x for x in all_possible_matches if not (x[0] in best_match or x[1] in best_match)]\n",
    "    \n",
    "    print(f\"Removed all matches with {best_match[0].name} and {best_match[1].name}\")\n",
    "    matches.append(best_match)"
   ]
  },
  {
   "cell_type": "code",
   "execution_count": 315,
   "metadata": {},
   "outputs": [
    {
     "name": "stdout",
     "output_type": "stream",
     "text": [
      "Jason Jiang matched with Charlotte Chiang\n",
      "Emma Martinez  matched with Atul Thirumalai\n",
      "Daphne Chan matched with Owen Hsu\n",
      "vidhi matched with Viraj Chhajed\n",
      "Lucas Choe matched with Coco\n",
      "Brianna Dee matched with Dillon Price\n",
      "India Brar matched with Manish Yalamanchili\n",
      "Ashley Rivera matched with Alyssa Corbett\n",
      "RJ Wang matched with Kimberly Cui\n",
      "Madeleine matched with John Connell\n",
      "swasinya jayaraman matched with Sachin Raja\n",
      "Max matched with Siya Patel\n",
      "Shivani Patel matched with Vaibhav Aggarwal\n",
      "Melina Eftekhari matched with Jake Hekemian\n",
      "Tristan Thai matched with Lila\n",
      "chris s matched with Serena Kim \n",
      "Tavia Placencia matched with Anibal Anguiano\n",
      "sisi  b matched with Venkat Chitturi\n",
      "Mili Pavagadhi matched with Abhiram Singh \n",
      "akshay  matched with TAZ\n",
      "ty matched with Hailey Chen\n",
      "Jace Crocker matched with Joshua Stepter\n",
      "Stevan matched with Yanelli Raygoza\n",
      "Neel Redkar matched with Lily Ong\n",
      "Beatrice Huang matched with Rishi Chowdary\n",
      "Raayan Dhar matched with Zaara Amin\n",
      "yuka matched with Divik Chotani \n",
      "Nakul Joshi matched with Yuna Bi\n",
      "Jonathan Pai matched with Lea Farkouh\n",
      "Kennedy matched with Arav Bhattacharya\n",
      "\n",
      "\n",
      "======================\n",
      "Unmatched:\n",
      "Karina Davis was unmatched\n",
      "Tia Ketsan was unmatched\n",
      "Ryan Robles was unmatched\n",
      "Ashlyn Hayes  was unmatched\n"
     ]
    }
   ],
   "source": [
    "for match in matches:\n",
    "    print(f\"{match[0].name} matched with {match[1].name}\")\n",
    "    match_table = api.table(base_id, 'matches')\n",
    "    match_table.create({\n",
    "        \"p1\": [match[0].id],\n",
    "        \"p2\": [match[1].id],\n",
    "        \"percent\": match[2]\n",
    "    })\n",
    "\n",
    "print(\"\\n\\n======================\")\n",
    "print(\"Unmatched:\")    \n",
    "\n",
    "for person in unmatched:\n",
    "    print(f\"{person.name} was unmatched\")"
   ]
  }
 ],
 "metadata": {
  "kernelspec": {
   "display_name": "matcher-cc9HlD4o",
   "language": "python",
   "name": "python3"
  },
  "language_info": {
   "codemirror_mode": {
    "name": "ipython",
    "version": 3
   },
   "file_extension": ".py",
   "mimetype": "text/x-python",
   "name": "python",
   "nbconvert_exporter": "python",
   "pygments_lexer": "ipython3",
   "version": "3.11.6"
  }
 },
 "nbformat": 4,
 "nbformat_minor": 2
}
