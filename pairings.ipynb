{
 "cells": [
  {
   "cell_type": "markdown",
   "metadata": {},
   "source": [
    "# Pair People\n",
    "\n",
    "This uses a continuous version, inspired by the Gape-Shapley algorithm, to pair people in a way that minimizes the distance between people.\n",
    "\n",
    "Since you have 1 group and continuous features, you can just have a bag of all combinations and then use a greedy algorithm to just pick the best pair at each step. This seems to work well at least in the first iteration.\n",
    "\n",
    "We use cosine similarity as the distance metric between embeddings."
   ]
  },
  {
   "cell_type": "code",
   "execution_count": 2,
   "metadata": {},
   "outputs": [
    {
     "name": "stderr",
     "output_type": "stream",
     "text": [
      "/Users/neelredkar/.local/share/virtualenvs/matcher-cc9HlD4o/lib/python3.11/site-packages/bitsandbytes/cextension.py:34: UserWarning: The installed version of bitsandbytes was compiled without GPU support. 8-bit optimizers, 8-bit multiplication, and GPU quantization are unavailable.\n",
      "  warn(\"The installed version of bitsandbytes was compiled without GPU support. \"\n"
     ]
    },
    {
     "name": "stdout",
     "output_type": "stream",
     "text": [
      "'NoneType' object has no attribute 'cadam32bit_grad_fp32'\n"
     ]
    },
    {
     "name": "stderr",
     "output_type": "stream",
     "text": [
      "/Users/neelredkar/.local/share/virtualenvs/matcher-cc9HlD4o/lib/python3.11/site-packages/tqdm/auto.py:21: TqdmWarning: IProgress not found. Please update jupyter and ipywidgets. See https://ipywidgets.readthedocs.io/en/stable/user_install.html\n",
      "  from .autonotebook import tqdm as notebook_tqdm\n"
     ]
    }
   ],
   "source": [
    "from angle_emb import AnglE\n",
    "\n",
    "MALE = 0\n",
    "FEMALE = 1\n",
    "OTHER = 2\n",
    "\n",
    "SEX_MAPPING = {\n",
    "    \"male\": MALE,\n",
    "    \"female\": FEMALE,\n",
    "    \"other\": OTHER\n",
    "}\n",
    "\n",
    "model = AnglE.from_pretrained(\n",
    "    'WhereIsAI/UAE-Large-V1', pooling_strategy='cls').cuda()"
   ]
  },
  {
   "cell_type": "code",
   "execution_count": 317,
   "metadata": {},
   "outputs": [],
   "source": [
    "import torch\n",
    "\n",
    "def cos_sim(a, b):\n",
    "    a = torch.tensor(a).to(\"mps\")\n",
    "    b = torch.tensor(b).to(\"mps\")\n",
    "    return torch.nn.functional.cosine_similarity(a, b, dim=0)"
   ]
  },
  {
   "cell_type": "code",
   "execution_count": 318,
   "metadata": {},
   "outputs": [],
   "source": [
    "class Person:\n",
    "    def __init__(self,\n",
    "                 id: str,\n",
    "                 name: str,\n",
    "                 sex: int,\n",
    "                 desc: str,\n",
    "                 want: str,\n",
    "                 pref: [int]\n",
    "                 ):\n",
    "        self.id = id\n",
    "        self.name = name\n",
    "        self.desc = desc\n",
    "        self.want = want\n",
    "        self.pref = pref\n",
    "        self.sex = sex\n",
    "        self.similarities = []\n",
    "\n",
    "        self.embedding = model.encode([desc])[0]\n",
    "        self.want_embedding = model.encode([want])[0]\n",
    "\n",
    "    def calc_similarity(self, other: 'Person'):\n",
    "        if self == other:\n",
    "            return 1.0\n",
    "        for sim in self.similarities:\n",
    "            if sim[0] == other:\n",
    "                return sim[1]\n",
    "\n",
    "        sim = cos_sim(self.embedding, other.embedding)\n",
    "        self.similarities.append(\n",
    "            (other, sim)\n",
    "        )\n",
    "        return sim\n",
    "\n",
    "    def sex_match(self, other: 'Person'):\n",
    "        return (self.sex in other.pref) and (other.sex in self.pref)\n",
    "\n",
    "    def get_best_match(self):\n",
    "        return max(self.similarities, key=lambda x: x[1])\n",
    "    \n",
    "    def get_rankings(self):\n",
    "        rankings = list(map(lambda x: x[0], sorted(self.similarities, key=lambda x: x[1])))\n",
    "\n",
    "        # filter out non sex matches\n",
    "        rankings = list(filter(lambda p: p.sex_match(self), rankings))\n",
    "\n",
    "        return rankings"
   ]
  },
  {
   "cell_type": "code",
   "execution_count": 319,
   "metadata": {},
   "outputs": [],
   "source": [
    "def convert_to_sexint(l: list[str]):\n",
    "    return list(map(lambda x: SEX_MAPPING[x], l))"
   ]
  },
  {
   "cell_type": "code",
   "execution_count": 3,
   "metadata": {},
   "outputs": [],
   "source": [
    "from pyairtable import Api\n",
    "from dotenv import load_dotenv\n",
    "import os\n",
    "load_dotenv()\n",
    "\n",
    "api_key = os.getenv('AIRTABLE_API_KEY')\n",
    "base_id = os.getenv('AIRTABLE_BASE')\n",
    "\n",
    "api = Api(api_key)\n",
    "\n",
    "descrip_table = api.table(base_id, 'descs')\n",
    "people_table = api.table(base_id, 'people')"
   ]
  },
  {
   "cell_type": "code",
   "execution_count": 321,
   "metadata": {},
   "outputs": [
    {
     "name": "stderr",
     "output_type": "stream",
     "text": [
      " 34%|███▍      | 27/80 [00:19<00:24,  2.15it/s]"
     ]
    },
    {
     "name": "stdout",
     "output_type": "stream",
     "text": [
      "skipping Vansh Gehlot\n"
     ]
    },
    {
     "name": "stderr",
     "output_type": "stream",
     "text": [
      " 94%|█████████▍| 75/80 [00:49<00:02,  2.40it/s]"
     ]
    },
    {
     "name": "stdout",
     "output_type": "stream",
     "text": [
      "skipping Arav Bhattacharya\n"
     ]
    },
    {
     "name": "stderr",
     "output_type": "stream",
     "text": [
      "100%|██████████| 80/80 [00:52<00:00,  1.53it/s]\n",
      "100%|██████████| 78/78 [00:11<00:00,  6.55it/s]\n"
     ]
    }
   ],
   "source": [
    "from tqdm import tqdm\n",
    "\n",
    "records = descrip_table.all()\n",
    "\n",
    "people = []\n",
    "for record in tqdm(records):\n",
    "    fields = record['fields']\n",
    "    person = people_table.get(fields['people'][0])\n",
    "    person['fields']['id'] = person['id']\n",
    "    person = person['fields']\n",
    "\n",
    "    if \"undesired\" in person:\n",
    "        print(f\"skipping {person['name']}\")\n",
    "        continue\n",
    "\n",
    "    people.append(\n",
    "        Person(\n",
    "            person['id'],\n",
    "            person['name'],\n",
    "            convert_to_sexint(person['sex'])[0],\n",
    "            fields['desc'],\n",
    "            fields['want'],\n",
    "            convert_to_sexint(person['attraction'])\n",
    "        )\n",
    "    )\n",
    "\n",
    "for person in tqdm(people):\n",
    "    for other in people:\n",
    "        if person.id != other.id:\n",
    "            person.calc_similarity(other)"
   ]
  },
  {
   "cell_type": "code",
   "execution_count": 322,
   "metadata": {},
   "outputs": [],
   "source": [
    "def get_all_possible(people: list[Person]):\n",
    "    all_possible_matches = []\n",
    "\n",
    "    for person in people:\n",
    "        for other in people:\n",
    "            if person.id != other.id and person.sex_match(other):\n",
    "                all_possible_matches.append((person, other, float(person.calc_similarity(other))))\n",
    "\n",
    "    return all_possible_matches"
   ]
  },
  {
   "cell_type": "code",
   "execution_count": 327,
   "metadata": {},
   "outputs": [],
   "source": [
    "all_possible_matches = get_all_possible(people)"
   ]
  },
  {
   "cell_type": "code",
   "execution_count": null,
   "metadata": {},
   "outputs": [],
   "source": [
    "matches = []\n",
    "unmatched = [x for x in people]\n",
    "\n",
    "while len(all_possible_matches) != 0:\n",
    "    all_possible_matches = sorted(all_possible_matches, key=lambda x: x[2])\n",
    "    best_match = all_possible_matches.pop()\n",
    "\n",
    "    unmatched = [x for x in unmatched if x not in best_match]\n",
    "\n",
    "    print(f\"{best_match[0].name} matched with {best_match[1].name} with a score of {best_match[2]}\")\n",
    "    all_possible_matches = [x for x in all_possible_matches if not (x[0] in best_match or x[1] in best_match)]\n",
    "    \n",
    "    print(f\"Removed all matches with {best_match[0].name} and {best_match[1].name}\")\n",
    "    matches.append(best_match)"
   ]
  },
  {
   "cell_type": "code",
   "execution_count": null,
   "metadata": {},
   "outputs": [],
   "source": [
    "for match in matches:\n",
    "    print(f\"{match[0].name} matched with {match[1].name}\")\n",
    "    match_table = api.table(base_id, 'matches')\n",
    "    match_table.create({\n",
    "        \"p1\": [match[0].id],\n",
    "        \"p2\": [match[1].id],\n",
    "        \"percent\": match[2]\n",
    "    })\n",
    "\n",
    "print(\"\\n\\n======================\")\n",
    "print(\"Unmatched:\")    \n",
    "\n",
    "for person in unmatched:\n",
    "    print(f\"{person.name} was unmatched\")"
   ]
  },
  {
   "cell_type": "code",
   "execution_count": 4,
   "metadata": {},
   "outputs": [],
   "source": [
    "from openai import OpenAI\n",
    "import json\n",
    "from tqdm import tqdm\n",
    "\n",
    "\n",
    "client = OpenAI(\n",
    "    api_key=os.getenv('OPENAI_API_KEY')\n",
    ")"
   ]
  },
  {
   "cell_type": "code",
   "execution_count": 6,
   "metadata": {},
   "outputs": [
    {
     "name": "stderr",
     "output_type": "stream",
     "text": [
      "  0%|          | 0/39 [00:00<?, ?it/s]"
     ]
    },
    {
     "name": "stdout",
     "output_type": "stream",
     "text": [
      "starting\n"
     ]
    },
    {
     "name": "stderr",
     "output_type": "stream",
     "text": [
      "100%|██████████| 39/39 [00:15<00:00,  2.57it/s]"
     ]
    },
    {
     "name": "stdout",
     "output_type": "stream",
     "text": [
      "done\n",
      "hey there, cosmic travelers! 🌌✨\n",
      "\n",
      "so, the universe in its infinite wisdom (or maybe just a quirky algorithm) has decided that you two might just be the binary stars of each other's galaxies. let's dive into the brief dossiers of our interstellar candidates:\n",
      "\n",
      "- **divik chotani**: a jedi in his own right, divik's life orbits around star wars. whether it's watching the saga for the umpteenth time or engaging in philosophical debates about the force, he's your go-to galaxy guy. his friends value his smarts and encyclopedic knowledge of all things star wars. he's on a quest to find an online princess leia to his han solo.\n",
      "\n",
      "- **swasinya jayaraman**: a renaissance woman for the modern age, swasinya's talents span from engineering marvels to creating musical symphonies. she seeks adventures that are as fun and challenging as defeating the empire, and values humor, honesty, and growth in her companions. whether it's hiking up the mountains of endor or crafting a masterpiece, she's all about making memories that are out of this world.\n",
      "\n",
      "now, before we launch you into hyperspace, here are some questions to help you navigate the asteroid fields of getting to know each other:\n",
      "\n",
      "- if you could have any creature from the star wars universe as a pet, which one would it be and why? 🐾\n",
      "- describe a piece of music that changes the way you see the world. 🎶\n",
      "\n",
      "and now, for the deeper space probes:\n",
      "\n",
      "- if you could share a meal with any character from star wars, who would it be and what burning question would you ask them? 🔥\n",
      "\n",
      "may the force be with you as you embark on this galactic journey of discovery! remember, in the vast expanse of the universe, it's the connections we make that light up the stars. 🚀💫\n",
      "\n",
      "p.s. don't forget to keep it light, keep it fun, and may the odds be ever in your favor! 😉\n"
     ]
    },
    {
     "name": "stderr",
     "output_type": "stream",
     "text": [
      "\n"
     ]
    }
   ],
   "source": [
    "matches_table = api.table(base_id, 'matches')\n",
    "matches = matches_table.all()\n",
    "\n",
    "for match in tqdm(matches):\n",
    "    fields = match['fields']\n",
    "    p1 = people_table.get(fields['p1'][0])['fields']\n",
    "    p2 = people_table.get(fields['p2'][0])['fields']\n",
    "\n",
    "    p1 = json.dumps(p1)\n",
    "    p2 = json.dumps(p2)\n",
    "\n",
    "    print(\"starting\")\n",
    "    response = client.chat.completions.create(\n",
    "            model=\"gpt-4-0125-preview\",  # Adjust the model if necessary\n",
    "            messages=[\n",
    "                {\"role\": \"system\", \"content\": \"You write email bodies and are charismatic and have a fun sense of humor.\"},\n",
    "                {\"role\": \"user\", \"content\": f\"\"\"\n",
    "                Generate an introductory email body (JUST the body) for a blind date between these two people. Include a brief summary of each person's profile. Provide a couple intro starter questions for both to answer (bulleted), 1 quirky one related to their profiles, 1 slightly deeper ones, and 1 really deep question. wnrs style\n",
    "                \n",
    "                use lots of exclamation marks! be slightly ironic, and use typed emojis :)\n",
    "                only include the body of the email, no subject line, greeting, or closing.\n",
    "\n",
    "                use the style of a we're not really strangers type email, all lowercase and vibey\n",
    "                ===\n",
    "                {p1}\n",
    "                ===\n",
    "                {p2}\n",
    "                ===\n",
    "                \"\"\"}\n",
    "            ],\n",
    "            temperature=0.3,\n",
    "            max_tokens=500,  # Adjust based on how long you expect the summary to be\n",
    "        )\n",
    "\n",
    "    print(\"done\")\n",
    "    matches_table.update(match['id'], {\n",
    "        \"email_body\": response.choices[0].message.content\n",
    "    })\n",
    "    "
   ]
  }
 ],
 "metadata": {
  "kernelspec": {
   "display_name": "matcher-cc9HlD4o",
   "language": "python",
   "name": "python3"
  },
  "language_info": {
   "codemirror_mode": {
    "name": "ipython",
    "version": 3
   },
   "file_extension": ".py",
   "mimetype": "text/x-python",
   "name": "python",
   "nbconvert_exporter": "python",
   "pygments_lexer": "ipython3",
   "version": "3.11.6"
  }
 },
 "nbformat": 4,
 "nbformat_minor": 2
}
