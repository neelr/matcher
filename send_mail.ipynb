{
 "cells": [
  {
   "cell_type": "code",
   "execution_count": 32,
   "metadata": {},
   "outputs": [],
   "source": [
    "from pyairtable import Api\n",
    "from dotenv import load_dotenv\n",
    "import os\n",
    "load_dotenv()\n",
    "\n",
    "api_key = os.getenv('AIRTABLE_API_KEY')\n",
    "base_id = os.getenv('AIRTABLE_BASE')\n",
    "\n",
    "api = Api(api_key)\n",
    "\n",
    "matches_table = api.table(base_id, 'matches')\n",
    "people_table = api.table(base_id, 'people')"
   ]
  },
  {
   "cell_type": "code",
   "execution_count": 33,
   "metadata": {},
   "outputs": [],
   "source": [
    "# read from mail_template.txt\n",
    "mail_template = ''\n",
    "with open('mail_template.txt', 'r') as file:\n",
    "    mail_template = file.read()\n",
    "\n",
    "# replace {{name}} with the name of the person"
   ]
  },
  {
   "cell_type": "code",
   "execution_count": 29,
   "metadata": {},
   "outputs": [
    {
     "name": "stdout",
     "output_type": "stream",
     "text": [
      "Please visit this URL to authorize this application: https://accounts.google.com/o/oauth2/auth?response_type=code&client_id=725730991270-om13lfcjhpoc2ptl1g4ajhoklgt0j6qf.apps.googleusercontent.com&redirect_uri=http%3A%2F%2Flocalhost%3A49934%2F&scope=https%3A%2F%2Fwww.googleapis.com%2Fauth%2Fgmail.send&state=Lti35MstsPefRLXUpTGAWhY5FSWgPY&access_type=offline\n"
     ]
    }
   ],
   "source": [
    "import base64\n",
    "from email.mime.text import MIMEText\n",
    "from google_auth_oauthlib.flow import InstalledAppFlow\n",
    "from googleapiclient.discovery import build\n",
    "from requests import HTTPError\n",
    "\n",
    "SCOPES = [\n",
    "        \"https://www.googleapis.com/auth/gmail.send\"\n",
    "    ]\n",
    "flow = InstalledAppFlow.from_client_secrets_file('credentials.json', SCOPES)\n",
    "creds = flow.run_local_server(port=0)\n",
    "\n",
    "service = build('gmail', 'v1', credentials=creds)"
   ]
  },
  {
   "cell_type": "code",
   "execution_count": 30,
   "metadata": {},
   "outputs": [],
   "source": [
    "import base64\n",
    "import markdown\n",
    "from tqdm import tqdm\n",
    "import time"
   ]
  },
  {
   "cell_type": "code",
   "execution_count": 34,
   "metadata": {},
   "outputs": [],
   "source": [
    "subject_template = mail_template.split('\\n')[0].split('Subject: ')[1]\n",
    "mail_template = \"\\n\".join(mail_template.split('\\n')[2:])\n",
    "mail_template = markdown.markdown(mail_template)"
   ]
  },
  {
   "cell_type": "code",
   "execution_count": 35,
   "metadata": {},
   "outputs": [
    {
     "name": "stderr",
     "output_type": "stream",
     "text": [
      "  0%|          | 0/83 [00:00<?, ?it/s]"
     ]
    },
    {
     "name": "stdout",
     "output_type": "stream",
     "text": [
      "<p>Hi Veronica,</p>\n",
      "<p>Hope you're doing well (especially your emails that you <em>cough</em> should send to your matches)! We won't be able to host a mixer this time, but we'd still love to hear your stories!</p>\n",
      "<p>Y'all should definetly meet up (pro points for serendipity) and let us know how it goes! We'd love to hear your stories and it would be crazy to see anything happen from this. Even if its non-romantic, I'm a huge proponent of new friendships—especially with people you might not usually approach (they usually have the craziest life stories).</p>\n",
      "<p>Please reply to this email with any funny screenshots, stories, or just selfies of you two together! We'll be sure to share them on our social media and website (with your permission of course).</p>\n",
      "<p>Thanks for participating and this was super fun to develop! If y'all have any feedback, we'd love to hear it + you can actually check out the code for the mixer here https://github.com/neelr/matcher (i'm happy to answer any questions about the code haha).</p>\n",
      "<ul>\n",
      "<li>(@neelr)[https://neelr.dev]</li>\n",
      "</ul>\n",
      "Valentines Day Mixer Updates!\n"
     ]
    },
    {
     "name": "stderr",
     "output_type": "stream",
     "text": [
      "\n"
     ]
    }
   ],
   "source": [
    "bool = False\n",
    "for record in tqdm(people_table.all()):\n",
    "\n",
    "    email = mail_template.replace('{{name}}', record['fields']['name'].split(' ')[0])\n",
    "\n",
    "    print(F'sending email to {record[\"fields\"][\"email\"]}')\n",
    "    message = MIMEText(email.replace('\\n', '<br>'), 'html')\n",
    "    message['to'] = record['fields']['email']\n",
    "    message['subject'] = subject_template\n",
    "    create_message = {'raw': base64.urlsafe_b64encode(message.as_bytes()).decode()}\n",
    "\n",
    "    try:\n",
    "        message = (service.users().messages().send(userId=\"me\", body=create_message).execute())\n",
    "        print(F'sent message to {message} Message Id: {message[\"id\"]}')\n",
    "    except HTTPError as error:\n",
    "        print(F'An error occurred: {error}')\n",
    "        message = None\n",
    "\n",
    "    time.sleep(1) # avoid rate limit"
   ]
  }
 ],
 "metadata": {
  "kernelspec": {
   "display_name": "matcher-cc9HlD4o",
   "language": "python",
   "name": "python3"
  },
  "language_info": {
   "codemirror_mode": {
    "name": "ipython",
    "version": 3
   },
   "file_extension": ".py",
   "mimetype": "text/x-python",
   "name": "python",
   "nbconvert_exporter": "python",
   "pygments_lexer": "ipython3",
   "version": "3.11.6"
  }
 },
 "nbformat": 4,
 "nbformat_minor": 2
}
